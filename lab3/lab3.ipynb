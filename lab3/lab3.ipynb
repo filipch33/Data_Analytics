{
 "cells": [
  {
   "cell_type": "markdown",
   "metadata": {},
   "source": [
    "Lab 3, Filip Chrapla, 406161"
   ]
  },
  {
   "cell_type": "code",
   "execution_count": 1,
   "metadata": {},
   "outputs": [
    {
     "name": "stderr",
     "output_type": "stream",
     "text": [
      "/usr/local/lib/python3.12/site-packages/tqdm/auto.py:22: TqdmWarning: IProgress not found. Please update jupyter and ipywidgets. See https://ipywidgets.readthedocs.io/en/stable/user_install.html\n",
      "  from .autonotebook import tqdm as notebook_tqdm\n"
     ]
    }
   ],
   "source": [
    "from cmdstanpy import CmdStanModel\n",
    "import pandas as pd\n",
    "import arviz as az \n",
    "import numpy as np\n",
    "import matplotlib.pyplot as plt\n",
    "import scipy.stats as stats"
   ]
  },
  {
   "cell_type": "code",
   "execution_count": 10,
   "metadata": {},
   "outputs": [
    {
     "name": "stderr",
     "output_type": "stream",
     "text": [
      "INFO:cmdstanpy:found newer exe file, not recompiling\n",
      "INFO:cmdstanpy:CmdStan start processing\n",
      "chain 1 |\u001b[34m██████████\u001b[0m| 00:00 Sampling completed"
     ]
    },
    {
     "name": "stdout",
     "output_type": "stream",
     "text": [
      "                                                                                "
     ]
    },
    {
     "name": "stderr",
     "output_type": "stream",
     "text": [
      "\n",
      "INFO:cmdstanpy:CmdStan done processing.\n"
     ]
    },
    {
     "name": "stdout",
     "output_type": "stream",
     "text": [
      "\n"
     ]
    },
    {
     "data": {
      "image/png": "[encoded data removed]",
      "text/plain": [
       "<Figure size 432x288 with 1 Axes>"
      ]
     },
     "metadata": {
      "needs_background": "light"
     },
     "output_type": "display_data"
    }
   ],
   "source": [
    "#Stan model\n",
    "model = CmdStanModel(stan_file='ex1.stan')\n",
    "\n",
    "# 5. genarated 1000 samples\n",
    "samples = model.sample(fixed_param=True, iter_sampling=1000, iter_warmup=1, chains=1)\n",
    "y_draws = samples.stan_variable('y')\n",
    "\n",
    "# 6.Compute ratio of allergic reactions\n",
    "ratios = y_draws / 50  # Since N is fixed at 50\n",
    "\n",
    "# Histogram\n",
    "plt.hist(ratios, bins=30, density=True, alpha=0.5, color='b')\n",
    "plt.xlabel('Ratio of Allergic Reactions')\n",
    "plt.ylabel('Density')\n",
    "plt.title('Ratio of Allergic Reactions')\n",
    "plt.show()"
   ]
  },
  {
   "cell_type": "markdown",
   "metadata": {},
   "source": [
    "Comment: The highest probability density we obtained for a value slightly less than 20%."
   ]
  },
  {
   "cell_type": "code",
   "execution_count": 19,
   "metadata": {},
   "outputs": [
    {
     "name": "stderr",
     "output_type": "stream",
     "text": [
      "INFO:cmdstanpy:found newer exe file, not recompiling\n",
      "INFO:cmdstanpy:CmdStan start processing\n",
      "chain 1 |\u001b[33m          \u001b[0m| 00:00 Status\n",
      "\u001b[A\n",
      "\n",
      "\u001b[A\u001b[A"
     ]
    },
    {
     "name": "stderr",
     "output_type": "stream",
     "text": [
      "chain 1 |\u001b[34m██████████\u001b[0m| 00:00 Sampling completed\n",
      "chain 2 |\u001b[34m██████████\u001b[0m| 00:00 Sampling completed\n",
      "chain 3 |\u001b[34m██████████\u001b[0m| 00:00 Sampling completed\n",
      "chain 4 |\u001b[34m██████████\u001b[0m| 00:00 Sampling completed"
     ]
    },
    {
     "name": "stdout",
     "output_type": "stream",
     "text": [
      "                                                                                                                                                                                                                                                                                                                                "
     ]
    },
    {
     "name": "stderr",
     "output_type": "stream",
     "text": [
      "\n",
      "INFO:cmdstanpy:CmdStan done processing.\n"
     ]
    },
    {
     "name": "stdout",
     "output_type": "stream",
     "text": [
      "\n"
     ]
    },
    {
     "data": {
      "image/png": "[encoded data removed]",
      "text/plain": [
       "<Figure size 432x288 with 1 Axes>"
      ]
     },
     "metadata": {
      "needs_background": "light"
     },
     "output_type": "display_data"
    },
    {
     "name": "stdout",
     "output_type": "stream",
     "text": [
      "         mean     sd  hdi_3%  hdi_97%  mcse_mean  mcse_sd  ess_bulk  ess_tail  \\\n",
      "p       0.153  0.051   0.065    0.249      0.001    0.001    1441.0    1706.0   \n",
      "y_pred  7.677  3.601   2.000   14.000      0.076    0.054    2257.0    2921.0   \n",
      "\n",
      "        r_hat  \n",
      "p         1.0  \n",
      "y_pred    1.0  \n",
      "94% density interval of predicted ratio: [0.04, 0.28]\n",
      "Expected value of p: 0.153\n",
      "94% density interval of parameter p: [0.065, 0.249]\n",
      "Probability that ratio is lower than the average from traditional vaccines: 0.19625\n"
     ]
    }
   ],
   "source": [
    "\n",
    "data = {'N': 50, 'y': 7}  \n",
    "\n",
    "# Stan model\n",
    "model = CmdStanModel(stan_file='ex2.stan')\n",
    "\n",
    "samples = model.sample(data=data, chains=4)\n",
    "\n",
    "# 3.\n",
    "y_pred = samples.stan_variable('y_pred')\n",
    "ratios = y_pred / data['N']\n",
    "\n",
    "# 3.Histogram\n",
    "plt.hist(ratios, bins=30, density=True, alpha=0.5, color='b')\n",
    "plt.xlabel('Ratio of Predicted Allergic Reactions')\n",
    "plt.ylabel('Density')\n",
    "plt.title('Predicted Allergic Reaction Ratios')\n",
    "plt.show()\n",
    "\n",
    "# 4. Compute the expected value and 94% density interval\n",
    "summary = az.summary(samples, var_names=['p', 'y_pred'], hdi_prob=0.94)\n",
    "print(summary)\n",
    "expected_p = summary.loc['p', 'mean']\n",
    "hdi_low, hdi_high = summary.loc['y_pred', ['hdi_3%', 'hdi_97%']] / data['N']\n",
    "print(f\"94% density interval of predicted ratio: [{hdi_low}, {hdi_high}]\")\n",
    "\n",
    "# 4. Compare it with expected value and 94% density interval of parameter p\n",
    "print(f\"Expected value of p: {expected_p}\")\n",
    "print(f\"94% density interval of parameter p: [{summary.loc['p', 'hdi_3%']}, {summary.loc['p', 'hdi_97%']}]\")\n",
    "\n",
    "# 5. Compute the probability that ratio is lower than the average probability from traditional vaccines\n",
    "average_probability_traditional = 0.1\n",
    "probability_lower = np.mean(ratios < average_probability_traditional)\n",
    "print(f\"Probability that ratio is lower than the average from traditional vaccines: {probability_lower}\")"
   ]
  },
  {
   "cell_type": "markdown",
   "metadata": {},
   "source": [
    "Comment: The highest probability density for the second plot is around 15%."
   ]
  }
 ],
 "metadata": {
  "kernelspec": {
   "display_name": "Python 3",
   "language": "python",
   "name": "python3"
  },
  "language_info": {
   "codemirror_mode": {
    "name": "ipython",
    "version": 3
   },
   "file_extension": ".py",
   "mimetype": "text/x-python",
   "name": "python",
   "nbconvert_exporter": "python",
   "pygments_lexer": "ipython3",
   "version": "3.12.2"
  }
 },
 "nbformat": 4,
 "nbformat_minor": 2
}
