{
 "cells": [
  {
   "cell_type": "markdown",
   "metadata": {},
   "source": [
    "Filip Chrapla, 406161, sprawozdanie 6"
   ]
  },
  {
   "cell_type": "code",
   "execution_count": 39,
   "metadata": {},
   "outputs": [],
   "source": [
    "from cmdstanpy import CmdStanModel\n",
    "import arviz as az\n",
    "import numpy as np\n",
    "import scipy.stats as stats\n",
    "import pandas as pd\n",
    "import matplotlib.pyplot as plt\n",
    "import matplotlib as mpl\n",
    "import seaborn as sns\n"
   ]
  },
  {
   "cell_type": "code",
   "execution_count": 3,
   "metadata": {},
   "outputs": [],
   "source": [
    "F = len(\"Filip\")\n",
    "L = len(\"Chrapla\")\n",
    "N = (L + F) * 100"
   ]
  },
  {
   "cell_type": "code",
   "execution_count": 7,
   "metadata": {},
   "outputs": [
    {
     "name": "stderr",
     "output_type": "stream",
     "text": [
      "19:43:51 - cmdstanpy - INFO - compiling stan file /root/lab6.1/lab6/code_1.stan to exe file /root/lab6.1/lab6/code_1\n",
      "19:44:46 - cmdstanpy - INFO - compiled model executable: /root/lab6.1/lab6/code_1\n",
      "19:44:46 - cmdstanpy - INFO - CmdStan start processing\n",
      "chain 1 |\u001b[34m██████████\u001b[0m| 00:00 Sampling completed"
     ]
    },
    {
     "name": "stdout",
     "output_type": "stream",
     "text": [
      "                                                                                "
     ]
    },
    {
     "name": "stderr",
     "output_type": "stream",
     "text": [
      "\n",
      "19:44:46 - cmdstanpy - INFO - CmdStan done processing.\n"
     ]
    },
    {
     "name": "stdout",
     "output_type": "stream",
     "text": [
      "\n"
     ]
    }
   ],
   "source": [
    "model1 = CmdStanModel(stan_file='/root/lab6.1/lab6/code_1.stan')\n",
    "R = 1\n",
    "sim1=model1.sample(data={'N': N},\n",
    "iter_sampling=R,\n",
    "iter_warmup=1,\n",
    "chains=1,\n",
    ")"
   ]
  },
  {
   "cell_type": "code",
   "execution_count": 8,
   "metadata": {},
   "outputs": [
    {
     "data": {
      "text/html": [
       "<div>\n",
       "<style scoped>\n",
       "    .dataframe tbody tr th:only-of-type {\n",
       "        vertical-align: middle;\n",
       "    }\n",
       "\n",
       "    .dataframe tbody tr th {\n",
       "        vertical-align: top;\n",
       "    }\n",
       "\n",
       "    .dataframe thead th {\n",
       "        text-align: right;\n",
       "    }\n",
       "</style>\n",
       "<table border=\"1\" class=\"dataframe\">\n",
       "  <thead>\n",
       "    <tr style=\"text-align: right;\">\n",
       "      <th></th>\n",
       "      <th>chain__</th>\n",
       "      <th>iter__</th>\n",
       "      <th>draw__</th>\n",
       "      <th>lp__</th>\n",
       "      <th>accept_stat__</th>\n",
       "      <th>theta</th>\n",
       "      <th>y[1]</th>\n",
       "      <th>y[2]</th>\n",
       "      <th>y[3]</th>\n",
       "      <th>y[4]</th>\n",
       "      <th>...</th>\n",
       "      <th>y[1191]</th>\n",
       "      <th>y[1192]</th>\n",
       "      <th>y[1193]</th>\n",
       "      <th>y[1194]</th>\n",
       "      <th>y[1195]</th>\n",
       "      <th>y[1196]</th>\n",
       "      <th>y[1197]</th>\n",
       "      <th>y[1198]</th>\n",
       "      <th>y[1199]</th>\n",
       "      <th>y[1200]</th>\n",
       "    </tr>\n",
       "  </thead>\n",
       "  <tbody>\n",
       "    <tr>\n",
       "      <th>0</th>\n",
       "      <td>1.0</td>\n",
       "      <td>1.0</td>\n",
       "      <td>1.0</td>\n",
       "      <td>0.0</td>\n",
       "      <td>0.0</td>\n",
       "      <td>0.01</td>\n",
       "      <td>-1.54848</td>\n",
       "      <td>0.565819</td>\n",
       "      <td>-0.257166</td>\n",
       "      <td>0.157896</td>\n",
       "      <td>...</td>\n",
       "      <td>0.275659</td>\n",
       "      <td>-1.65046</td>\n",
       "      <td>-0.562562</td>\n",
       "      <td>0.726237</td>\n",
       "      <td>-0.55427</td>\n",
       "      <td>0.945359</td>\n",
       "      <td>-1.52724</td>\n",
       "      <td>0.409662</td>\n",
       "      <td>-2.37478</td>\n",
       "      <td>2.74265</td>\n",
       "    </tr>\n",
       "  </tbody>\n",
       "</table>\n",
       "<p>1 rows × 1206 columns</p>\n",
       "</div>"
      ],
      "text/plain": [
       "   chain__  iter__  draw__  lp__  accept_stat__  theta     y[1]      y[2]  \\\n",
       "0      1.0     1.0     1.0   0.0            0.0   0.01 -1.54848  0.565819   \n",
       "\n",
       "       y[3]      y[4]  ...   y[1191]  y[1192]   y[1193]   y[1194]  y[1195]  \\\n",
       "0 -0.257166  0.157896  ...  0.275659 -1.65046 -0.562562  0.726237 -0.55427   \n",
       "\n",
       "    y[1196]  y[1197]   y[1198]  y[1199]  y[1200]  \n",
       "0  0.945359 -1.52724  0.409662 -2.37478  2.74265  \n",
       "\n",
       "[1 rows x 1206 columns]"
      ]
     },
     "execution_count": 8,
     "metadata": {},
     "output_type": "execute_result"
    }
   ],
   "source": [
    "mod1 = sim1.draws_pd()\n",
    "mod1.head()"
   ]
  },
  {
   "cell_type": "code",
   "execution_count": 9,
   "metadata": {},
   "outputs": [
    {
     "name": "stderr",
     "output_type": "stream",
     "text": [
      "19:46:10 - cmdstanpy - INFO - compiling stan file /root/lab6.1/lab6/code_2.stan to exe file /root/lab6.1/lab6/code_2\n",
      "19:46:42 - cmdstanpy - INFO - compiled model executable: /root/lab6.1/lab6/code_2\n",
      "19:46:42 - cmdstanpy - INFO - CmdStan start processing\n",
      "chain 1 |\u001b[34m██████████\u001b[0m| 00:00 Sampling completed"
     ]
    },
    {
     "name": "stdout",
     "output_type": "stream",
     "text": [
      "                                                                                "
     ]
    },
    {
     "name": "stderr",
     "output_type": "stream",
     "text": [
      "\n",
      "19:46:42 - cmdstanpy - INFO - CmdStan done processing.\n"
     ]
    },
    {
     "name": "stdout",
     "output_type": "stream",
     "text": [
      "\n"
     ]
    }
   ],
   "source": [
    "model2 = CmdStanModel(stan_file='/root/lab6.1/lab6/code_2.stan')\n",
    "R = 1\n",
    "sim2=model2.sample(data={'N': N},\n",
    "iter_sampling=R,\n",
    "iter_warmup=1,\n",
    "chains=1,\n",
    ")"
   ]
  },
  {
   "cell_type": "code",
   "execution_count": 10,
   "metadata": {},
   "outputs": [
    {
     "data": {
      "text/html": [
       "<div>\n",
       "<style scoped>\n",
       "    .dataframe tbody tr th:only-of-type {\n",
       "        vertical-align: middle;\n",
       "    }\n",
       "\n",
       "    .dataframe tbody tr th {\n",
       "        vertical-align: top;\n",
       "    }\n",
       "\n",
       "    .dataframe thead th {\n",
       "        text-align: right;\n",
       "    }\n",
       "</style>\n",
       "<table border=\"1\" class=\"dataframe\">\n",
       "  <thead>\n",
       "    <tr style=\"text-align: right;\">\n",
       "      <th></th>\n",
       "      <th>chain__</th>\n",
       "      <th>iter__</th>\n",
       "      <th>draw__</th>\n",
       "      <th>lp__</th>\n",
       "      <th>accept_stat__</th>\n",
       "      <th>X[1,1]</th>\n",
       "      <th>X[2,1]</th>\n",
       "      <th>X[3,1]</th>\n",
       "      <th>X[4,1]</th>\n",
       "      <th>X[5,1]</th>\n",
       "      <th>...</th>\n",
       "      <th>y[1191]</th>\n",
       "      <th>y[1192]</th>\n",
       "      <th>y[1193]</th>\n",
       "      <th>y[1194]</th>\n",
       "      <th>y[1195]</th>\n",
       "      <th>y[1196]</th>\n",
       "      <th>y[1197]</th>\n",
       "      <th>y[1198]</th>\n",
       "      <th>y[1199]</th>\n",
       "      <th>y[1200]</th>\n",
       "    </tr>\n",
       "  </thead>\n",
       "  <tbody>\n",
       "    <tr>\n",
       "      <th>0</th>\n",
       "      <td>1.0</td>\n",
       "      <td>1.0</td>\n",
       "      <td>1.0</td>\n",
       "      <td>0.0</td>\n",
       "      <td>0.0</td>\n",
       "      <td>-0.791184</td>\n",
       "      <td>0.118705</td>\n",
       "      <td>0.149629</td>\n",
       "      <td>-0.282929</td>\n",
       "      <td>-1.22997</td>\n",
       "      <td>...</td>\n",
       "      <td>-3.50858</td>\n",
       "      <td>0.351081</td>\n",
       "      <td>5.21933</td>\n",
       "      <td>3.0131</td>\n",
       "      <td>5.73302</td>\n",
       "      <td>-0.917458</td>\n",
       "      <td>0.100038</td>\n",
       "      <td>-3.54693</td>\n",
       "      <td>-5.38274</td>\n",
       "      <td>-0.826928</td>\n",
       "    </tr>\n",
       "  </tbody>\n",
       "</table>\n",
       "<p>1 rows × 4808 columns</p>\n",
       "</div>"
      ],
      "text/plain": [
       "   chain__  iter__  draw__  lp__  accept_stat__    X[1,1]    X[2,1]    X[3,1]  \\\n",
       "0      1.0     1.0     1.0   0.0            0.0 -0.791184  0.118705  0.149629   \n",
       "\n",
       "     X[4,1]   X[5,1]  ...  y[1191]   y[1192]  y[1193]  y[1194]  y[1195]  \\\n",
       "0 -0.282929 -1.22997  ... -3.50858  0.351081  5.21933   3.0131  5.73302   \n",
       "\n",
       "    y[1196]   y[1197]  y[1198]  y[1199]   y[1200]  \n",
       "0 -0.917458  0.100038 -3.54693 -5.38274 -0.826928  \n",
       "\n",
       "[1 rows x 4808 columns]"
      ]
     },
     "execution_count": 10,
     "metadata": {},
     "output_type": "execute_result"
    }
   ],
   "source": [
    "mod2 = sim2.draws_pd()\n",
    "mod2.head()"
   ]
  },
  {
   "cell_type": "code",
   "execution_count": 11,
   "metadata": {},
   "outputs": [
    {
     "data": {
      "text/html": [
       "<div>\n",
       "<style scoped>\n",
       "    .dataframe tbody tr th:only-of-type {\n",
       "        vertical-align: middle;\n",
       "    }\n",
       "\n",
       "    .dataframe tbody tr th {\n",
       "        vertical-align: top;\n",
       "    }\n",
       "\n",
       "    .dataframe thead th {\n",
       "        text-align: right;\n",
       "    }\n",
       "</style>\n",
       "<table border=\"1\" class=\"dataframe\">\n",
       "  <thead>\n",
       "    <tr style=\"text-align: right;\">\n",
       "      <th></th>\n",
       "      <th>y[1]</th>\n",
       "      <th>y[2]</th>\n",
       "      <th>y[3]</th>\n",
       "      <th>y[4]</th>\n",
       "      <th>y[5]</th>\n",
       "      <th>y[6]</th>\n",
       "      <th>y[7]</th>\n",
       "      <th>y[8]</th>\n",
       "      <th>y[9]</th>\n",
       "      <th>y[10]</th>\n",
       "      <th>...</th>\n",
       "      <th>y[1191]</th>\n",
       "      <th>y[1192]</th>\n",
       "      <th>y[1193]</th>\n",
       "      <th>y[1194]</th>\n",
       "      <th>y[1195]</th>\n",
       "      <th>y[1196]</th>\n",
       "      <th>y[1197]</th>\n",
       "      <th>y[1198]</th>\n",
       "      <th>y[1199]</th>\n",
       "      <th>y[1200]</th>\n",
       "    </tr>\n",
       "  </thead>\n",
       "  <tbody>\n",
       "    <tr>\n",
       "      <th>0</th>\n",
       "      <td>-1.54848</td>\n",
       "      <td>0.565819</td>\n",
       "      <td>-0.257166</td>\n",
       "      <td>0.157896</td>\n",
       "      <td>-2.5076</td>\n",
       "      <td>-0.369131</td>\n",
       "      <td>0.05573</td>\n",
       "      <td>-0.576945</td>\n",
       "      <td>0.193618</td>\n",
       "      <td>0.515992</td>\n",
       "      <td>...</td>\n",
       "      <td>0.275659</td>\n",
       "      <td>-1.65046</td>\n",
       "      <td>-0.562562</td>\n",
       "      <td>0.726237</td>\n",
       "      <td>-0.55427</td>\n",
       "      <td>0.945359</td>\n",
       "      <td>-1.52724</td>\n",
       "      <td>0.409662</td>\n",
       "      <td>-2.37478</td>\n",
       "      <td>2.74265</td>\n",
       "    </tr>\n",
       "  </tbody>\n",
       "</table>\n",
       "<p>1 rows × 1200 columns</p>\n",
       "</div>"
      ],
      "text/plain": [
       "      y[1]      y[2]      y[3]      y[4]    y[5]      y[6]     y[7]      y[8]  \\\n",
       "0 -1.54848  0.565819 -0.257166  0.157896 -2.5076 -0.369131  0.05573 -0.576945   \n",
       "\n",
       "       y[9]     y[10]  ...   y[1191]  y[1192]   y[1193]   y[1194]  y[1195]  \\\n",
       "0  0.193618  0.515992  ...  0.275659 -1.65046 -0.562562  0.726237 -0.55427   \n",
       "\n",
       "    y[1196]  y[1197]   y[1198]  y[1199]  y[1200]  \n",
       "0  0.945359 -1.52724  0.409662 -2.37478  2.74265  \n",
       "\n",
       "[1 rows x 1200 columns]"
      ]
     },
     "execution_count": 11,
     "metadata": {},
     "output_type": "execute_result"
    }
   ],
   "source": [
    "mod1.iloc[:, -N:]"
   ]
  },
  {
   "cell_type": "code",
   "execution_count": null,
   "metadata": {},
   "outputs": [],
   "source": [
    "model3 = CmdStanModel(stan_file='/root/lab6.1/lab6/code_3.stan')\n",
    "R = 1000\n",
    "sim3=model3.sample(data={'N': N, 'y': mod1.iloc[0, -N:]},\n",
    "iter_sampling=R,\n",
    "iter_warmup=1,\n",
    "chains=1,\n",
    ")"
   ]
  },
  {
   "cell_type": "code",
   "execution_count": 14,
   "metadata": {},
   "outputs": [
    {
     "data": {
      "text/html": [
       "<div>\n",
       "<style scoped>\n",
       "    .dataframe tbody tr th:only-of-type {\n",
       "        vertical-align: middle;\n",
       "    }\n",
       "\n",
       "    .dataframe tbody tr th {\n",
       "        vertical-align: top;\n",
       "    }\n",
       "\n",
       "    .dataframe thead th {\n",
       "        text-align: right;\n",
       "    }\n",
       "</style>\n",
       "<table border=\"1\" class=\"dataframe\">\n",
       "  <thead>\n",
       "    <tr style=\"text-align: right;\">\n",
       "      <th></th>\n",
       "      <th>chain__</th>\n",
       "      <th>iter__</th>\n",
       "      <th>draw__</th>\n",
       "      <th>lp__</th>\n",
       "      <th>accept_stat__</th>\n",
       "      <th>stepsize__</th>\n",
       "      <th>treedepth__</th>\n",
       "      <th>n_leapfrog__</th>\n",
       "      <th>divergent__</th>\n",
       "      <th>energy__</th>\n",
       "      <th>...</th>\n",
       "      <th>y_hat[1191]</th>\n",
       "      <th>y_hat[1192]</th>\n",
       "      <th>y_hat[1193]</th>\n",
       "      <th>y_hat[1194]</th>\n",
       "      <th>y_hat[1195]</th>\n",
       "      <th>y_hat[1196]</th>\n",
       "      <th>y_hat[1197]</th>\n",
       "      <th>y_hat[1198]</th>\n",
       "      <th>y_hat[1199]</th>\n",
       "      <th>y_hat[1200]</th>\n",
       "    </tr>\n",
       "  </thead>\n",
       "  <tbody>\n",
       "    <tr>\n",
       "      <th>0</th>\n",
       "      <td>1.0</td>\n",
       "      <td>1.0</td>\n",
       "      <td>1.0</td>\n",
       "      <td>-2776.52</td>\n",
       "      <td>0.0</td>\n",
       "      <td>14.3855</td>\n",
       "      <td>0.0</td>\n",
       "      <td>1.0</td>\n",
       "      <td>1.0</td>\n",
       "      <td>2777.27</td>\n",
       "      <td>...</td>\n",
       "      <td>2.064800</td>\n",
       "      <td>2.751640</td>\n",
       "      <td>3.323790</td>\n",
       "      <td>1.021840</td>\n",
       "      <td>1.01439</td>\n",
       "      <td>4.55106</td>\n",
       "      <td>2.020360</td>\n",
       "      <td>5.840960</td>\n",
       "      <td>1.208100</td>\n",
       "      <td>3.522150</td>\n",
       "    </tr>\n",
       "    <tr>\n",
       "      <th>1</th>\n",
       "      <td>1.0</td>\n",
       "      <td>2.0</td>\n",
       "      <td>2.0</td>\n",
       "      <td>-2776.52</td>\n",
       "      <td>0.0</td>\n",
       "      <td>14.3855</td>\n",
       "      <td>0.0</td>\n",
       "      <td>1.0</td>\n",
       "      <td>1.0</td>\n",
       "      <td>2777.62</td>\n",
       "      <td>...</td>\n",
       "      <td>1.037380</td>\n",
       "      <td>0.915045</td>\n",
       "      <td>1.393170</td>\n",
       "      <td>0.693873</td>\n",
       "      <td>-3.73591</td>\n",
       "      <td>-1.56392</td>\n",
       "      <td>-0.906193</td>\n",
       "      <td>6.108560</td>\n",
       "      <td>-0.405055</td>\n",
       "      <td>-1.283740</td>\n",
       "    </tr>\n",
       "    <tr>\n",
       "      <th>2</th>\n",
       "      <td>1.0</td>\n",
       "      <td>3.0</td>\n",
       "      <td>3.0</td>\n",
       "      <td>-2776.52</td>\n",
       "      <td>0.0</td>\n",
       "      <td>14.3855</td>\n",
       "      <td>0.0</td>\n",
       "      <td>1.0</td>\n",
       "      <td>1.0</td>\n",
       "      <td>2776.83</td>\n",
       "      <td>...</td>\n",
       "      <td>5.416150</td>\n",
       "      <td>-0.739696</td>\n",
       "      <td>2.532710</td>\n",
       "      <td>-5.800060</td>\n",
       "      <td>4.30377</td>\n",
       "      <td>-1.92310</td>\n",
       "      <td>2.239150</td>\n",
       "      <td>-0.234035</td>\n",
       "      <td>2.714910</td>\n",
       "      <td>5.443600</td>\n",
       "    </tr>\n",
       "    <tr>\n",
       "      <th>3</th>\n",
       "      <td>1.0</td>\n",
       "      <td>4.0</td>\n",
       "      <td>4.0</td>\n",
       "      <td>-2776.52</td>\n",
       "      <td>0.0</td>\n",
       "      <td>14.3855</td>\n",
       "      <td>0.0</td>\n",
       "      <td>1.0</td>\n",
       "      <td>1.0</td>\n",
       "      <td>2778.72</td>\n",
       "      <td>...</td>\n",
       "      <td>0.698294</td>\n",
       "      <td>4.819100</td>\n",
       "      <td>0.701044</td>\n",
       "      <td>0.935395</td>\n",
       "      <td>3.88382</td>\n",
       "      <td>3.67686</td>\n",
       "      <td>2.643930</td>\n",
       "      <td>2.632990</td>\n",
       "      <td>1.984440</td>\n",
       "      <td>0.302784</td>\n",
       "    </tr>\n",
       "    <tr>\n",
       "      <th>4</th>\n",
       "      <td>1.0</td>\n",
       "      <td>5.0</td>\n",
       "      <td>5.0</td>\n",
       "      <td>-2776.52</td>\n",
       "      <td>0.0</td>\n",
       "      <td>14.3855</td>\n",
       "      <td>0.0</td>\n",
       "      <td>1.0</td>\n",
       "      <td>1.0</td>\n",
       "      <td>2776.60</td>\n",
       "      <td>...</td>\n",
       "      <td>3.723120</td>\n",
       "      <td>0.724886</td>\n",
       "      <td>6.012340</td>\n",
       "      <td>0.879607</td>\n",
       "      <td>3.80932</td>\n",
       "      <td>2.13037</td>\n",
       "      <td>1.426460</td>\n",
       "      <td>4.147710</td>\n",
       "      <td>1.256510</td>\n",
       "      <td>3.638430</td>\n",
       "    </tr>\n",
       "  </tbody>\n",
       "</table>\n",
       "<p>5 rows × 2412 columns</p>\n",
       "</div>"
      ],
      "text/plain": [
       "   chain__  iter__  draw__     lp__  accept_stat__  stepsize__  treedepth__  \\\n",
       "0      1.0     1.0     1.0 -2776.52            0.0     14.3855          0.0   \n",
       "1      1.0     2.0     2.0 -2776.52            0.0     14.3855          0.0   \n",
       "2      1.0     3.0     3.0 -2776.52            0.0     14.3855          0.0   \n",
       "3      1.0     4.0     4.0 -2776.52            0.0     14.3855          0.0   \n",
       "4      1.0     5.0     5.0 -2776.52            0.0     14.3855          0.0   \n",
       "\n",
       "   n_leapfrog__  divergent__  energy__  ...  y_hat[1191]  y_hat[1192]  \\\n",
       "0           1.0          1.0   2777.27  ...     2.064800     2.751640   \n",
       "1           1.0          1.0   2777.62  ...     1.037380     0.915045   \n",
       "2           1.0          1.0   2776.83  ...     5.416150    -0.739696   \n",
       "3           1.0          1.0   2778.72  ...     0.698294     4.819100   \n",
       "4           1.0          1.0   2776.60  ...     3.723120     0.724886   \n",
       "\n",
       "   y_hat[1193]  y_hat[1194]  y_hat[1195]  y_hat[1196]  y_hat[1197]  \\\n",
       "0     3.323790     1.021840      1.01439      4.55106     2.020360   \n",
       "1     1.393170     0.693873     -3.73591     -1.56392    -0.906193   \n",
       "2     2.532710    -5.800060      4.30377     -1.92310     2.239150   \n",
       "3     0.701044     0.935395      3.88382      3.67686     2.643930   \n",
       "4     6.012340     0.879607      3.80932      2.13037     1.426460   \n",
       "\n",
       "   y_hat[1198]  y_hat[1199]  y_hat[1200]  \n",
       "0     5.840960     1.208100     3.522150  \n",
       "1     6.108560    -0.405055    -1.283740  \n",
       "2    -0.234035     2.714910     5.443600  \n",
       "3     2.632990     1.984440     0.302784  \n",
       "4     4.147710     1.256510     3.638430  \n",
       "\n",
       "[5 rows x 2412 columns]"
      ]
     },
     "execution_count": 14,
     "metadata": {},
     "output_type": "execute_result"
    }
   ],
   "source": [
    "mod3 = sim3.draws_pd()\n",
    "mod3.head()"
   ]
  },
  {
   "cell_type": "code",
   "execution_count": null,
   "metadata": {},
   "outputs": [],
   "source": [
    "model4 = CmdStanModel(stan_file='/root/lab6.1/lab6/code_4.stan')\n",
    "R = 1000\n",
    "sim4=model4.sample(data={'N': N, 'y': mod1.iloc[0, -N:]},\n",
    "iter_sampling=R,\n",
    "iter_warmup=1,\n",
    "chains=1,\n",
    ")"
   ]
  },
  {
   "cell_type": "code",
   "execution_count": 16,
   "metadata": {},
   "outputs": [
    {
     "data": {
      "text/html": [
       "<div>\n",
       "<style scoped>\n",
       "    .dataframe tbody tr th:only-of-type {\n",
       "        vertical-align: middle;\n",
       "    }\n",
       "\n",
       "    .dataframe tbody tr th {\n",
       "        vertical-align: top;\n",
       "    }\n",
       "\n",
       "    .dataframe thead th {\n",
       "        text-align: right;\n",
       "    }\n",
       "</style>\n",
       "<table border=\"1\" class=\"dataframe\">\n",
       "  <thead>\n",
       "    <tr style=\"text-align: right;\">\n",
       "      <th></th>\n",
       "      <th>chain__</th>\n",
       "      <th>iter__</th>\n",
       "      <th>draw__</th>\n",
       "      <th>lp__</th>\n",
       "      <th>accept_stat__</th>\n",
       "      <th>stepsize__</th>\n",
       "      <th>treedepth__</th>\n",
       "      <th>n_leapfrog__</th>\n",
       "      <th>divergent__</th>\n",
       "      <th>energy__</th>\n",
       "      <th>...</th>\n",
       "      <th>y_hat[1191]</th>\n",
       "      <th>y_hat[1192]</th>\n",
       "      <th>y_hat[1193]</th>\n",
       "      <th>y_hat[1194]</th>\n",
       "      <th>y_hat[1195]</th>\n",
       "      <th>y_hat[1196]</th>\n",
       "      <th>y_hat[1197]</th>\n",
       "      <th>y_hat[1198]</th>\n",
       "      <th>y_hat[1199]</th>\n",
       "      <th>y_hat[1200]</th>\n",
       "    </tr>\n",
       "  </thead>\n",
       "  <tbody>\n",
       "    <tr>\n",
       "      <th>0</th>\n",
       "      <td>1.0</td>\n",
       "      <td>1.0</td>\n",
       "      <td>1.0</td>\n",
       "      <td>-1839.07</td>\n",
       "      <td>0.0</td>\n",
       "      <td>14.3855</td>\n",
       "      <td>0.0</td>\n",
       "      <td>1.0</td>\n",
       "      <td>1.0</td>\n",
       "      <td>1840.29</td>\n",
       "      <td>...</td>\n",
       "      <td>-1.265510</td>\n",
       "      <td>-0.858471</td>\n",
       "      <td>-0.924380</td>\n",
       "      <td>-1.095310</td>\n",
       "      <td>-2.609270</td>\n",
       "      <td>0.416070</td>\n",
       "      <td>-1.351470</td>\n",
       "      <td>0.399375</td>\n",
       "      <td>-1.628170</td>\n",
       "      <td>-1.793810</td>\n",
       "    </tr>\n",
       "    <tr>\n",
       "      <th>1</th>\n",
       "      <td>1.0</td>\n",
       "      <td>2.0</td>\n",
       "      <td>2.0</td>\n",
       "      <td>-1839.07</td>\n",
       "      <td>0.0</td>\n",
       "      <td>14.3855</td>\n",
       "      <td>0.0</td>\n",
       "      <td>1.0</td>\n",
       "      <td>1.0</td>\n",
       "      <td>1840.02</td>\n",
       "      <td>...</td>\n",
       "      <td>1.779950</td>\n",
       "      <td>1.829740</td>\n",
       "      <td>0.648908</td>\n",
       "      <td>-0.280162</td>\n",
       "      <td>1.351500</td>\n",
       "      <td>-1.843600</td>\n",
       "      <td>0.101412</td>\n",
       "      <td>0.787694</td>\n",
       "      <td>0.871243</td>\n",
       "      <td>-0.544236</td>\n",
       "    </tr>\n",
       "    <tr>\n",
       "      <th>2</th>\n",
       "      <td>1.0</td>\n",
       "      <td>3.0</td>\n",
       "      <td>3.0</td>\n",
       "      <td>-1839.07</td>\n",
       "      <td>0.0</td>\n",
       "      <td>14.3855</td>\n",
       "      <td>0.0</td>\n",
       "      <td>1.0</td>\n",
       "      <td>1.0</td>\n",
       "      <td>1842.32</td>\n",
       "      <td>...</td>\n",
       "      <td>-0.589996</td>\n",
       "      <td>1.496000</td>\n",
       "      <td>0.451153</td>\n",
       "      <td>1.721050</td>\n",
       "      <td>0.443476</td>\n",
       "      <td>-0.971055</td>\n",
       "      <td>0.783030</td>\n",
       "      <td>-0.899879</td>\n",
       "      <td>-0.911698</td>\n",
       "      <td>-0.475602</td>\n",
       "    </tr>\n",
       "    <tr>\n",
       "      <th>3</th>\n",
       "      <td>1.0</td>\n",
       "      <td>4.0</td>\n",
       "      <td>4.0</td>\n",
       "      <td>-1839.07</td>\n",
       "      <td>0.0</td>\n",
       "      <td>14.3855</td>\n",
       "      <td>0.0</td>\n",
       "      <td>1.0</td>\n",
       "      <td>1.0</td>\n",
       "      <td>1840.23</td>\n",
       "      <td>...</td>\n",
       "      <td>1.108390</td>\n",
       "      <td>1.670280</td>\n",
       "      <td>3.729150</td>\n",
       "      <td>0.621044</td>\n",
       "      <td>-3.428700</td>\n",
       "      <td>-0.033908</td>\n",
       "      <td>-1.477730</td>\n",
       "      <td>-0.502913</td>\n",
       "      <td>2.346590</td>\n",
       "      <td>-1.543060</td>\n",
       "    </tr>\n",
       "    <tr>\n",
       "      <th>4</th>\n",
       "      <td>1.0</td>\n",
       "      <td>5.0</td>\n",
       "      <td>5.0</td>\n",
       "      <td>-1839.07</td>\n",
       "      <td>0.0</td>\n",
       "      <td>14.3855</td>\n",
       "      <td>0.0</td>\n",
       "      <td>1.0</td>\n",
       "      <td>1.0</td>\n",
       "      <td>1841.13</td>\n",
       "      <td>...</td>\n",
       "      <td>2.163640</td>\n",
       "      <td>-0.497091</td>\n",
       "      <td>0.986591</td>\n",
       "      <td>2.088040</td>\n",
       "      <td>-0.865491</td>\n",
       "      <td>1.024660</td>\n",
       "      <td>-0.953498</td>\n",
       "      <td>1.625230</td>\n",
       "      <td>0.030903</td>\n",
       "      <td>-0.519660</td>\n",
       "    </tr>\n",
       "  </tbody>\n",
       "</table>\n",
       "<p>5 rows × 2413 columns</p>\n",
       "</div>"
      ],
      "text/plain": [
       "   chain__  iter__  draw__     lp__  accept_stat__  stepsize__  treedepth__  \\\n",
       "0      1.0     1.0     1.0 -1839.07            0.0     14.3855          0.0   \n",
       "1      1.0     2.0     2.0 -1839.07            0.0     14.3855          0.0   \n",
       "2      1.0     3.0     3.0 -1839.07            0.0     14.3855          0.0   \n",
       "3      1.0     4.0     4.0 -1839.07            0.0     14.3855          0.0   \n",
       "4      1.0     5.0     5.0 -1839.07            0.0     14.3855          0.0   \n",
       "\n",
       "   n_leapfrog__  divergent__  energy__  ...  y_hat[1191]  y_hat[1192]  \\\n",
       "0           1.0          1.0   1840.29  ...    -1.265510    -0.858471   \n",
       "1           1.0          1.0   1840.02  ...     1.779950     1.829740   \n",
       "2           1.0          1.0   1842.32  ...    -0.589996     1.496000   \n",
       "3           1.0          1.0   1840.23  ...     1.108390     1.670280   \n",
       "4           1.0          1.0   1841.13  ...     2.163640    -0.497091   \n",
       "\n",
       "   y_hat[1193]  y_hat[1194]  y_hat[1195]  y_hat[1196]  y_hat[1197]  \\\n",
       "0    -0.924380    -1.095310    -2.609270     0.416070    -1.351470   \n",
       "1     0.648908    -0.280162     1.351500    -1.843600     0.101412   \n",
       "2     0.451153     1.721050     0.443476    -0.971055     0.783030   \n",
       "3     3.729150     0.621044    -3.428700    -0.033908    -1.477730   \n",
       "4     0.986591     2.088040    -0.865491     1.024660    -0.953498   \n",
       "\n",
       "   y_hat[1198]  y_hat[1199]  y_hat[1200]  \n",
       "0     0.399375    -1.628170    -1.793810  \n",
       "1     0.787694     0.871243    -0.544236  \n",
       "2    -0.899879    -0.911698    -0.475602  \n",
       "3    -0.502913     2.346590    -1.543060  \n",
       "4     1.625230     0.030903    -0.519660  \n",
       "\n",
       "[5 rows x 2413 columns]"
      ]
     },
     "execution_count": 16,
     "metadata": {},
     "output_type": "execute_result"
    }
   ],
   "source": [
    "mod4 = sim4.draws_pd()\n",
    "mod4.head()"
   ]
  },
  {
   "cell_type": "code",
   "execution_count": 17,
   "metadata": {},
   "outputs": [],
   "source": [
    "comp_dict = {'m3': sim3, 'm4': sim4}\n",
    "comp = az.compare(comp_dict, ic='waic', scale='deviance')"
   ]
  },
  {
   "cell_type": "code",
   "execution_count": 18,
   "metadata": {},
   "outputs": [
    {
     "data": {
      "image/png": "[encoded data removed]",
      "text/plain": [
       "<Figure size 600x200 with 1 Axes>"
      ]
     },
     "metadata": {},
     "output_type": "display_data"
    }
   ],
   "source": [
    "az.plot_compare(comp)\n",
    "plt.grid()\n",
    "plt.show()"
   ]
  },
  {
   "cell_type": "code",
   "execution_count": 19,
   "metadata": {},
   "outputs": [
    {
     "name": "stderr",
     "output_type": "stream",
     "text": [
      "/root/filipch/lib/python3.12/site-packages/arviz/stats/stats.py:789: UserWarning: Estimated shape parameter of Pareto distribution is greater than 0.7 for one or more samples. You should consider using a more robust model, this is because importance sampling is less likely to work well if the marginal posterior and LOO posterior are very different. This is more likely to happen with a non-robust model and highly influential observations.\n",
      "  warnings.warn(\n",
      "/root/filipch/lib/python3.12/site-packages/arviz/stats/stats.py:789: UserWarning: Estimated shape parameter of Pareto distribution is greater than 0.7 for one or more samples. You should consider using a more robust model, this is because importance sampling is less likely to work well if the marginal posterior and LOO posterior are very different. This is more likely to happen with a non-robust model and highly influential observations.\n",
      "  warnings.warn(\n"
     ]
    }
   ],
   "source": [
    "comp = az.compare(comp_dict, ic='loo', scale='deviance')"
   ]
  },
  {
   "cell_type": "code",
   "execution_count": 20,
   "metadata": {},
   "outputs": [
    {
     "data": {
      "image/png": "[encoded data removed]",
      "text/plain": [
       "<Figure size 600x200 with 1 Axes>"
      ]
     },
     "metadata": {},
     "output_type": "display_data"
    }
   ],
   "source": [
    "az.plot_compare(comp)\n",
    "plt.grid()\n",
    "plt.show()"
   ]
  },
  {
   "cell_type": "code",
   "execution_count": 43,
   "metadata": {},
   "outputs": [],
   "source": [
    "model5 = CmdStanModel(stan_file='/root/lab6.1/lab6/code_5.stan')"
   ]
  },
  {
   "cell_type": "code",
   "execution_count": 44,
   "metadata": {},
   "outputs": [],
   "source": [
    "X = mod2.iloc[0, 2:-N-3].values.reshape((-1, 3))\n"
   ]
  },
  {
   "cell_type": "code",
   "execution_count": 48,
   "metadata": {},
   "outputs": [],
   "source": [
    "N = 1200  \n",
    "X = X[:N]  \n",
    "\n",
    "\n"
   ]
  },
  {
   "cell_type": "code",
   "execution_count": null,
   "metadata": {},
   "outputs": [],
   "source": [
    "R = 1000\n",
    "sim5_1=model5.sample(data={'N': N, 'K': 1, 'y': mod2.iloc[0, -N:], 'X': X[:,:1]},\n",
    "iter_sampling=R,\n",
    "iter_warmup=1,\n",
    "chains=1,\n",
    "show_console=True\n",
    ")\n",
    "\n",
    "sim5_2=model5.sample(data={'N': N, 'K': 2, 'y': mod2.iloc[0, -N:], 'X': X[:,:2]},\n",
    "iter_sampling=R,\n",
    "iter_warmup=1,\n",
    "chains=1,\n",
    "show_console=True\n",
    ")\n",
    "\n",
    "sim5_3=model5.sample(data={'N': N, 'K': 3, 'y': mod2.iloc[0, -N:], 'X': X},\n",
    "iter_sampling=R,\n",
    "iter_warmup=1,\n",
    "chains=1,\n",
    "show_console=True\n",
    ")\n"
   ]
  },
  {
   "cell_type": "code",
   "execution_count": 50,
   "metadata": {},
   "outputs": [
    {
     "name": "stdout",
     "output_type": "stream",
     "text": [
      "1 predictor:    chain__  iter__  draw__     lp__  accept_stat__  stepsize__  treedepth__  \\\n",
      "0      1.0     1.0     1.0 -1928.46            0.0     4.28063          0.0   \n",
      "1      1.0     2.0     2.0 -1928.46            0.0     4.28063          0.0   \n",
      "2      1.0     3.0     3.0 -1928.46            0.0     4.28063          0.0   \n",
      "3      1.0     4.0     4.0 -1928.46            0.0     4.28063          0.0   \n",
      "4      1.0     5.0     5.0 -1928.46            0.0     4.28063          0.0   \n",
      "\n",
      "   n_leapfrog__  divergent__  energy__  ...  y_hat[1191]  y_hat[1192]  \\\n",
      "0           1.0          1.0   1929.77  ...      5.49113      1.75640   \n",
      "1           1.0          1.0   1929.45  ...     -5.11993     -1.48564   \n",
      "2           1.0          1.0   1930.00  ...     10.09300     -1.60525   \n",
      "3           1.0          1.0   1928.71  ...      3.36191    -16.05620   \n",
      "4           1.0          1.0   1928.84  ...     -3.38697     -6.92188   \n",
      "\n",
      "   y_hat[1193]  y_hat[1194]  y_hat[1195]  y_hat[1196]  y_hat[1197]  \\\n",
      "0     -5.17101     0.167591    -1.440420     -1.38171    -3.712320   \n",
      "1     -2.91011     0.147405     3.133870      0.49101     1.620410   \n",
      "2      5.43209     7.457330     2.324870      5.98241    -2.286110   \n",
      "3      4.50829     8.837690    -0.980546      0.85298     5.370790   \n",
      "4      1.76957     3.622760     1.726210     -0.92452    -0.021647   \n",
      "\n",
      "   y_hat[1198]  y_hat[1199]  y_hat[1200]  \n",
      "0    -8.078870      4.41580      2.57512  \n",
      "1    -4.340870      3.64894     -7.93773  \n",
      "2    -1.729350      1.63804      1.51351  \n",
      "3    -0.804609     -4.32919     -1.92823  \n",
      "4     0.662100     -1.90163     -6.92293  \n",
      "\n",
      "[5 rows x 3612 columns] 2 predictors:    chain__  iter__  draw__     lp__  accept_stat__  stepsize__  treedepth__  \\\n",
      "0      1.0     1.0     1.0 -2729.97            0.0     14.3855          0.0   \n",
      "1      1.0     2.0     2.0 -2729.97            0.0     14.3855          0.0   \n",
      "2      1.0     3.0     3.0 -2729.97            0.0     14.3855          0.0   \n",
      "3      1.0     4.0     4.0 -2729.97            0.0     14.3855          0.0   \n",
      "4      1.0     5.0     5.0 -2729.97            0.0     14.3855          0.0   \n",
      "\n",
      "   n_leapfrog__  divergent__  energy__  ...  y_hat[1191]  y_hat[1192]  \\\n",
      "0           1.0          1.0   2730.97  ...     0.809629    -0.513027   \n",
      "1           1.0          1.0   2731.31  ...     1.059870    -3.987760   \n",
      "2           1.0          1.0   2733.99  ...     1.030530    -4.191090   \n",
      "3           1.0          1.0   2730.66  ...     0.930454    -1.139020   \n",
      "4           1.0          1.0   2730.52  ...     1.725760    -3.171120   \n",
      "\n",
      "   y_hat[1193]  y_hat[1194]  y_hat[1195]  y_hat[1196]  y_hat[1197]  \\\n",
      "0      1.08995     0.879972    -0.739144    -0.927238     0.826250   \n",
      "1      1.68742     3.884630    -0.369228     0.973613     0.390487   \n",
      "2      3.70888    -0.238187     0.183499     0.151923    -1.144890   \n",
      "3      1.44292     2.447940    -0.560805    -2.026880    -1.539120   \n",
      "4      1.75224     2.398490    -2.392480     1.820860     1.463830   \n",
      "\n",
      "   y_hat[1198]  y_hat[1199]  y_hat[1200]  \n",
      "0    -3.517310     0.753436     -4.01909  \n",
      "1    -2.023520    -0.852585     -3.00872  \n",
      "2    -2.702940     0.877880     -6.41240  \n",
      "3     0.419412     0.042709     -1.04929  \n",
      "4    -4.119760     1.528510     -1.21137  \n",
      "\n",
      "[5 rows x 3613 columns]\n"
     ]
    }
   ],
   "source": [
    "print('1 predictor:', sim5_1.draws_pd().head(),'2 predictors:', sim5_2.draws_pd().head().head())"
   ]
  },
  {
   "cell_type": "code",
   "execution_count": 51,
   "metadata": {},
   "outputs": [],
   "source": [
    "comp_dict = {'m5 - 1 predictor': sim5_1, 'm5 - 2 predictors': sim5_2, 'm5 - 3 predictors': sim5_3}"
   ]
  },
  {
   "cell_type": "code",
   "execution_count": 52,
   "metadata": {},
   "outputs": [
    {
     "name": "stderr",
     "output_type": "stream",
     "text": [
      "/root/filipch/lib/python3.12/site-packages/arviz/stats/stats.py:789: UserWarning: Estimated shape parameter of Pareto distribution is greater than 0.7 for one or more samples. You should consider using a more robust model, this is because importance sampling is less likely to work well if the marginal posterior and LOO posterior are very different. This is more likely to happen with a non-robust model and highly influential observations.\n",
      "  warnings.warn(\n",
      "/root/filipch/lib/python3.12/site-packages/arviz/stats/stats.py:789: UserWarning: Estimated shape parameter of Pareto distribution is greater than 0.7 for one or more samples. You should consider using a more robust model, this is because importance sampling is less likely to work well if the marginal posterior and LOO posterior are very different. This is more likely to happen with a non-robust model and highly influential observations.\n",
      "  warnings.warn(\n",
      "/root/filipch/lib/python3.12/site-packages/arviz/stats/stats.py:789: UserWarning: Estimated shape parameter of Pareto distribution is greater than 0.7 for one or more samples. You should consider using a more robust model, this is because importance sampling is less likely to work well if the marginal posterior and LOO posterior are very different. This is more likely to happen with a non-robust model and highly influential observations.\n",
      "  warnings.warn(\n"
     ]
    }
   ],
   "source": [
    "comp = az.compare(comp_dict, ic='loo', scale='deviance')"
   ]
  },
  {
   "cell_type": "code",
   "execution_count": 53,
   "metadata": {},
   "outputs": [
    {
     "data": {
      "image/png": "[encoded data removed]",
      "text/plain": [
       "<Figure size 600x300 with 1 Axes>"
      ]
     },
     "metadata": {},
     "output_type": "display_data"
    }
   ],
   "source": [
    "az.plot_compare(comp)\n",
    "plt.grid()\n",
    "plt.show()"
   ]
  },
  {
   "cell_type": "code",
   "execution_count": 54,
   "metadata": {},
   "outputs": [],
   "source": [
    "comp = az.compare(comp_dict, ic='waic', scale='deviance')"
   ]
  },
  {
   "cell_type": "code",
   "execution_count": 55,
   "metadata": {},
   "outputs": [
    {
     "data": {
      "image/png": "[encoded data removed]",
      "text/plain": [
       "<Figure size 600x300 with 1 Axes>"
      ]
     },
     "metadata": {},
     "output_type": "display_data"
    }
   ],
   "source": [
    "az.plot_compare(comp)\n",
    "plt.grid()\n",
    "plt.show()"
   ]
  }
 ],
 "metadata": {
  "kernelspec": {
   "display_name": "Python 3",
   "language": "python",
   "name": "python3"
  },
  "language_info": {
   "codemirror_mode": {
    "name": "ipython",
    "version": 3
   },
   "file_extension": ".py",
   "mimetype": "text/x-python",
   "name": "python",
   "nbconvert_exporter": "python",
   "pygments_lexer": "ipython3",
   "version": "3.12.2"
  }
 },
 "nbformat": 4,
 "nbformat_minor": 2
}
